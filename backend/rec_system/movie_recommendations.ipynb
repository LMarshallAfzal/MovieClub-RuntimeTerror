{
 "cells": [
  {
   "cell_type": "code",
   "execution_count": 1,
   "metadata": {},
   "outputs": [],
   "source": [
    "from surprise import KNNBasic,Dataset,Reader\n",
    "from collections import defaultdict\n",
    "from operator import itemgetter\n",
    "import heapq as hq\n",
    "import os\n",
    "import csv"
   ]
  },
  {
   "cell_type": "code",
   "execution_count": 2,
   "metadata": {},
   "outputs": [],
   "source": [
    "#Load movie.csv and ratings.csv to return a dataset\n",
    "def load_dataset():\n",
    "    ratings_dataset = 0\n",
    "    reader = Reader(line_format = 'user item rating timestamp', sep = ',', skip_lines=1)\n",
    "    ratings_dataset = Dataset.load_from_file('ml-dataset-latest/ratings.csv',reader=reader)\n",
    "\n",
    "    #Retrieve movie's title using it's ID\n",
    "    movie_titles = {}\n",
    "    with open('ml-dataset-latest/movies.csv', newline = '', encoding = 'ISO-8859-1') as movie_csv:\n",
    "        reader_movie = csv.reader(movie_csv)\n",
    "        next(reader_movie)\n",
    "        for row in reader_movie:\n",
    "            movie_id = int(row[0])\n",
    "            movie_name = row[1]\n",
    "            movie_titles[movie_id] = movie_name\n",
    "\n",
    "    return(ratings_dataset,movie_titles)\n",
    "\n",
    "dataset,movie_titles = load_dataset()\n",
    "\n",
    "training_set = dataset.build_full_trainset()"
   ]
  },
  {
   "cell_type": "code",
   "execution_count": 3,
   "metadata": {},
   "outputs": [
    {
     "name": "stdout",
     "output_type": "stream",
     "text": [
      "Computing the msd similarity matrix...\n",
      "Done computing similarity matrix.\n",
      "Computing the msd similarity matrix...\n",
      "Done computing similarity matrix.\n"
     ]
    }
   ],
   "source": [
    "similarity_matrix = KNNBasic(simp_options={\n",
    "    'name' : 'cosine',\n",
    "    'user_based' : False\n",
    "    })\\\n",
    "    .fit(training_set)\\\n",
    "    .compute_similarities()"
   ]
  },
  {
   "cell_type": "code",
   "execution_count": 4,
   "metadata": {},
   "outputs": [],
   "source": [
    "test_subject = '500'\n",
    "\n",
    "k = 20"
   ]
  },
  {
   "cell_type": "code",
   "execution_count": 5,
   "metadata": {},
   "outputs": [],
   "source": [
    "test_subject_iid = training_set.to_inner_uid(test_subject)\n",
    "\n",
    "test_subject_raitings = training_set.ur[test_subject_iid]\n",
    "k_neighbors = hq.nlargest(k, test_subject_raitings, key=lambda t : t[1])"
   ]
  },
  {
   "cell_type": "code",
   "execution_count": 6,
   "metadata": {},
   "outputs": [],
   "source": [
    "candidates = defaultdict(float)\n",
    "for itemID, rating in k_neighbors:\n",
    "    try:\n",
    "        similarities = similarity_matrix[itemID]\n",
    "        for innerID, score in enumerate(similarities):\n",
    "            candidates[innerID] += score * (rating / 5.0)\n",
    "    except:\n",
    "        continue"
   ]
  },
  {
   "cell_type": "code",
   "execution_count": 7,
   "metadata": {},
   "outputs": [],
   "source": [
    "def getMovieName(movieID):\n",
    "    if int(movieID) in movie_titles:\n",
    "        return movie_titles[int(movieID)]\n",
    "    else:\n",
    "        return \"\""
   ]
  },
  {
   "cell_type": "code",
   "execution_count": 8,
   "metadata": {},
   "outputs": [
    {
     "name": "stdout",
     "output_type": "stream",
     "text": [
      "Movie:  Natural Born Killers (1994)\n",
      "Movie:  Bad Boys (1995)\n",
      "Movie:  Grifters, The (1990)\n",
      "Movie:  Blown Away (1994)\n",
      "Movie:  Flight of the Navigator (1986)\n",
      "Movie:  Dark Knight Rises, The (2012)\n",
      "Movie:  Erin Brockovich (2000)\n",
      "Movie:  Black Cauldron, The (1985)\n",
      "Movie:  Toys (1992)\n",
      "Movie:  Bedknobs and Broomsticks (1971)\n",
      "Movie:  Tombstone (1993)\n"
     ]
    }
   ],
   "source": [
    "watched = {}\n",
    "for itemID, rating in training_set.ur[test_subject_iid]:\n",
    "    watched[itemID] = 1\n",
    "\n",
    "recommendations = []\n",
    "\n",
    "position = 0\n",
    "for itemID, rating_sum in sorted(candidates.items(), key = itemgetter(1), reverse=True):\n",
    "    if not itemID in watched:\n",
    "        recommendations.append(getMovieName(training_set.to_raw_iid(itemID)))\n",
    "        position += 1\n",
    "        if (position > 10) : break\n",
    "for rec in recommendations:\n",
    "    print(\"Movie: \", rec)"
   ]
  },
  {
   "cell_type": "code",
   "execution_count": null,
   "metadata": {},
   "outputs": [],
   "source": []
  },
  {
   "cell_type": "code",
   "execution_count": null,
   "metadata": {},
   "outputs": [],
   "source": []
  },
  {
   "cell_type": "code",
   "execution_count": null,
   "metadata": {},
   "outputs": [],
   "source": []
  },
  {
   "cell_type": "code",
   "execution_count": null,
   "metadata": {},
   "outputs": [],
   "source": []
  }
 ],
 "metadata": {
  "interpreter": {
   "hash": "916dbcbb3f70747c44a77c7bcd40155683ae19c65e1c03b4aa3499c5328201f1"
  },
  "kernelspec": {
   "display_name": "Python 3.8.10 64-bit",
   "language": "python",
   "name": "python3"
  },
  "language_info": {
   "codemirror_mode": {
    "name": "ipython",
    "version": 3
   },
   "file_extension": ".py",
   "mimetype": "text/x-python",
   "name": "python",
   "nbconvert_exporter": "python",
   "pygments_lexer": "ipython3",
   "version": "3.8.10"
  },
  "orig_nbformat": 4
 },
 "nbformat": 4,
 "nbformat_minor": 2
}
