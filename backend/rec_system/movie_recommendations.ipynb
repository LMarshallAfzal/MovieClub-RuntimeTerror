{
 "cells": [
  {
   "cell_type": "code",
   "execution_count": 2,
   "metadata": {},
   "outputs": [],
   "source": [
    "from surprise import KNNBasic,Dataset,Reader\n",
    "from collections import defaultdict\n",
    "from operator import itemgetter\n",
    "import heapq as hq\n",
    "import os\n",
    "import csv"
   ]
  },
  {
   "cell_type": "code",
   "execution_count": 12,
   "metadata": {},
   "outputs": [],
   "source": [
    "#Load movie.csv and ratings.csv to return a dataset\n",
    "def load_dataset():\n",
    "    ratings_dataset = 0\n",
    "    reader = Reader(line_format = 'user item rating timestamp', sep = ',', skip_lines=1)\n",
    "    ratings_dataset = Dataset.load_from_file('ml-dataset-latest/ratings.csv',reader=reader)\n",
    "\n",
    "    #Retrieve movie's title using it's ID\n",
    "    movie_titles = {}\n",
    "    with open('ml-dataset-latest/movies.csv', newline = '', encoding = 'ISO-8859-1') as movie_csv:\n",
    "        reader_movie = csv.reader(movie_csv)\n",
    "        next(reader_movie)\n",
    "        for row in reader_movie:\n",
    "            movie_id = int(row[0])\n",
    "            movie_name = row[1]\n",
    "            movie_titles[movie_id] = movie_name\n",
    "\n",
    "    return(ratings_dataset,movie_titles)\n",
    "\n",
    "dataset,movie_titles = load_dataset()\n",
    "\n",
    "training_set = dataset.build_full_trainset()\n",
    "\n",
    "\n",
    "        \n",
    "\n",
    "\n",
    "\n"
   ]
  },
  {
   "cell_type": "code",
   "execution_count": null,
   "metadata": {},
   "outputs": [],
   "source": []
  }
 ],
 "metadata": {
  "interpreter": {
   "hash": "916dbcbb3f70747c44a77c7bcd40155683ae19c65e1c03b4aa3499c5328201f1"
  },
  "kernelspec": {
   "display_name": "Python 3.8.10 64-bit",
   "language": "python",
   "name": "python3"
  },
  "language_info": {
   "codemirror_mode": {
    "name": "ipython",
    "version": 3
   },
   "file_extension": ".py",
   "mimetype": "text/x-python",
   "name": "python",
   "nbconvert_exporter": "python",
   "pygments_lexer": "ipython3",
   "version": "3.8.10"
  },
  "orig_nbformat": 4
 },
 "nbformat": 4,
 "nbformat_minor": 2
}
